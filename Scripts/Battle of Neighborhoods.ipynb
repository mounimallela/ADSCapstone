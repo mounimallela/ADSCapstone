{
 "cells": [
  {
   "cell_type": "markdown",
   "metadata": {
    "collapsed": true
   },
   "source": [
    "<h1>Description of the Problem and Discussion of the Background</h1>"
   ]
  },
  {
   "cell_type": "markdown",
   "metadata": {},
   "source": [
    "Deciding where to open a new venue in London (outside Inner City Limits)\n",
    "London is a great city. But there is also another side to its popularity and appeal. \n",
    "London is an expensive place to live and thrive. \n",
    "Many businesses want to open a venue here. \n",
    "But what about those, who want to start their own business and cannot really afford to open in the City yet?\n",
    "Where is it best to open a new place? Where will it be cheapest and will have enough people living around to be popular?\n",
    "Where the competition is not too overwhelming?\n",
    "\n",
    "All these questions and more will be answered below. The whole process will be carried out as below:\n",
    "\n",
    "1.a. Name of the London Boroughs, area and population from web scraping\n",
    "\n",
    "1.b. Filter the boroughs to get the best candidates for the analysis.\n",
    "\n",
    "1.c. Use Foresquare/google api Data to obtain info about most popular venues.\n",
    "\n",
    "3.a. Maximize the number of clusters.\n",
    "\n",
    "3.b. Visualization using Chloropleth Map\n",
    "\n",
    "First time enterpreneurs, who want to start their first business. Below dataset will give a comprehensive insight into where best to open a new venue, to maximise the value for money.\n",
    "\n",
    "People who already run a business and want to branch out. Given the extra information, it may provide valuable information before decision making.\n",
    "\n",
    "Initial Data Preparation (Week 1) \n",
    "2.1. Get The Names of Boroughs, Areas, Population, Coordinates from Wikipedia \n",
    "2.2. Processing the Information From Wiki To Make Necessary Lists \n",
    "First, we get the nessessary information on London Boroughs, dropping the extras, that will not be needed for the analysis."
   ]
  },
  {
   "cell_type": "markdown",
   "metadata": {},
   "source": [
    "<h1> Methodology </h1>\n",
    "In this project we will direct our efforts on detecting areas of London that have low pub density, keeping an eye on population and rent paid.\n",
    "\n",
    "In first step we have collected the required **data: location and type (category) of every restaurant within London center** . \n",
    " We have used Foursquare to detect other available entertainment areas available in the region.(according to Foursquare categorization).\n",
    "\n",
    "Second step in our analysis will be calculation and exploration of '**entertainment areas**' across different areas of London - we will use **Folium** to identify a few promising areas close to center with low number of restaurants in general (*and* no Italian restaurants in vicinity) and focus our attention on those areas.\n",
    "\n",
    "In third and final step we will focus on most promising areas and within those create **clusters of locations that meet some basic requirements** using k-means cluster. We will present map of all such locations but also create clusters (using **k-means clustering**) of those locations to identify general zones / neighborhoods / addresses which should be a starting point for final exploration and search for optimal venue location by population/rent etc."
   ]
  },
  {
   "cell_type": "code",
   "execution_count": 1,
   "metadata": {},
   "outputs": [
    {
     "name": "stdout",
     "output_type": "stream",
     "text": [
      "Requirement already satisfied: geopy in c:\\users\\mouni mallela\\appdata\\roaming\\python\\python38\\site-packages (2.1.0)\n",
      "Requirement already satisfied: geographiclib<2,>=1.49 in c:\\users\\mouni mallela\\appdata\\roaming\\python\\python38\\site-packages (from geopy) (1.52)\n",
      "Requirement already satisfied: geocoder in c:\\users\\mouni mallela\\anaconda3\\lib\\site-packages (1.38.1)\n",
      "Requirement already satisfied: click in c:\\users\\mouni mallela\\anaconda3\\lib\\site-packages (from geocoder) (7.1.2)\n",
      "Requirement already satisfied: future in c:\\users\\mouni mallela\\anaconda3\\lib\\site-packages (from geocoder) (0.18.2)\n",
      "Requirement already satisfied: requests in c:\\users\\mouni mallela\\anaconda3\\lib\\site-packages (from geocoder) (2.24.0)\n",
      "Requirement already satisfied: six in c:\\users\\mouni mallela\\anaconda3\\lib\\site-packages (from geocoder) (1.15.0)\n",
      "Requirement already satisfied: ratelim in c:\\users\\mouni mallela\\anaconda3\\lib\\site-packages (from geocoder) (0.1.6)\n",
      "Requirement already satisfied: certifi>=2017.4.17 in c:\\users\\mouni mallela\\anaconda3\\lib\\site-packages (from requests->geocoder) (2020.6.20)\n",
      "Requirement already satisfied: chardet<4,>=3.0.2 in c:\\users\\mouni mallela\\anaconda3\\lib\\site-packages (from requests->geocoder) (3.0.4)\n",
      "Requirement already satisfied: idna<3,>=2.5 in c:\\users\\mouni mallela\\anaconda3\\lib\\site-packages (from requests->geocoder) (2.10)\n",
      "Requirement already satisfied: urllib3!=1.25.0,!=1.25.1,<1.26,>=1.21.1 in c:\\users\\mouni mallela\\anaconda3\\lib\\site-packages (from requests->geocoder) (1.25.11)\n",
      "Requirement already satisfied: decorator in c:\\users\\mouni mallela\\anaconda3\\lib\\site-packages (from ratelim->geocoder) (4.4.2)\n"
     ]
    }
   ],
   "source": [
    "! pip install geopy\n",
    "! pip install geocoder\n",
    "import geopy\n",
    "import geocoder\n",
    "from geopy.geocoders import Nominatim\n",
    "import matplotlib.pyplot as plt\n",
    "import seaborn as sns\n",
    "import pandas as pd\n",
    "import numpy as np\n",
    "import requests\n",
    "from sklearn.cluster import KMeans\n",
    "import matplotlib.cm as cm\n",
    "import matplotlib.colors as colors"
   ]
  },
  {
   "cell_type": "code",
   "execution_count": 2,
   "metadata": {},
   "outputs": [
    {
     "data": {
      "text/html": [
       "<div>\n",
       "<style scoped>\n",
       "    .dataframe tbody tr th:only-of-type {\n",
       "        vertical-align: middle;\n",
       "    }\n",
       "\n",
       "    .dataframe tbody tr th {\n",
       "        vertical-align: top;\n",
       "    }\n",
       "\n",
       "    .dataframe thead th {\n",
       "        text-align: right;\n",
       "    }\n",
       "</style>\n",
       "<table border=\"1\" class=\"dataframe\">\n",
       "  <thead>\n",
       "    <tr style=\"text-align: right;\">\n",
       "      <th></th>\n",
       "      <th>Borough</th>\n",
       "      <th>Inner</th>\n",
       "      <th>Status</th>\n",
       "      <th>Local authority</th>\n",
       "      <th>Political control</th>\n",
       "      <th>Headquarters</th>\n",
       "      <th>Area (sq mi)</th>\n",
       "      <th>Population (2019 est)[1]</th>\n",
       "      <th>Co-ordinates</th>\n",
       "      <th>Nr. in map</th>\n",
       "    </tr>\n",
       "  </thead>\n",
       "  <tbody>\n",
       "    <tr>\n",
       "      <th>0</th>\n",
       "      <td>Barking and Dagenham[note 1]</td>\n",
       "      <td>NaN</td>\n",
       "      <td>NaN</td>\n",
       "      <td>Barking and Dagenham London Borough Council</td>\n",
       "      <td>Labour</td>\n",
       "      <td>Town Hall, 1 Town Square</td>\n",
       "      <td>13.93</td>\n",
       "      <td>212906</td>\n",
       "      <td>.mw-parser-output .geo-default,.mw-parser-outp...</td>\n",
       "      <td>25</td>\n",
       "    </tr>\n",
       "    <tr>\n",
       "      <th>1</th>\n",
       "      <td>Barnet</td>\n",
       "      <td>NaN</td>\n",
       "      <td>NaN</td>\n",
       "      <td>Barnet London Borough Council</td>\n",
       "      <td>Conservative</td>\n",
       "      <td>Barnet House, 2 Bristol Avenue, Colindale</td>\n",
       "      <td>33.49</td>\n",
       "      <td>395896</td>\n",
       "      <td>51°37′31″N 0°09′06″W﻿ / ﻿51.6252°N 0.1517°W</td>\n",
       "      <td>31</td>\n",
       "    </tr>\n",
       "    <tr>\n",
       "      <th>2</th>\n",
       "      <td>Bexley</td>\n",
       "      <td>NaN</td>\n",
       "      <td>NaN</td>\n",
       "      <td>Bexley London Borough Council</td>\n",
       "      <td>Conservative</td>\n",
       "      <td>Civic Offices, 2 Watling Street</td>\n",
       "      <td>23.38</td>\n",
       "      <td>248287</td>\n",
       "      <td>51°27′18″N 0°09′02″E﻿ / ﻿51.4549°N 0.1505°E</td>\n",
       "      <td>23</td>\n",
       "    </tr>\n",
       "    <tr>\n",
       "      <th>3</th>\n",
       "      <td>Brent</td>\n",
       "      <td>NaN</td>\n",
       "      <td>NaN</td>\n",
       "      <td>Brent London Borough Council</td>\n",
       "      <td>Labour</td>\n",
       "      <td>Brent Civic Centre, Engineers Way</td>\n",
       "      <td>16.70</td>\n",
       "      <td>329771</td>\n",
       "      <td>51°33′32″N 0°16′54″W﻿ / ﻿51.5588°N 0.2817°W</td>\n",
       "      <td>12</td>\n",
       "    </tr>\n",
       "    <tr>\n",
       "      <th>4</th>\n",
       "      <td>Bromley</td>\n",
       "      <td>NaN</td>\n",
       "      <td>NaN</td>\n",
       "      <td>Bromley London Borough Council</td>\n",
       "      <td>Conservative</td>\n",
       "      <td>Civic Centre, Stockwell Close</td>\n",
       "      <td>57.97</td>\n",
       "      <td>332336</td>\n",
       "      <td>51°24′14″N 0°01′11″E﻿ / ﻿51.4039°N 0.0198°E</td>\n",
       "      <td>20</td>\n",
       "    </tr>\n",
       "  </tbody>\n",
       "</table>\n",
       "</div>"
      ],
      "text/plain": [
       "                        Borough Inner Status  \\\n",
       "0  Barking and Dagenham[note 1]   NaN    NaN   \n",
       "1                        Barnet   NaN    NaN   \n",
       "2                        Bexley   NaN    NaN   \n",
       "3                         Brent   NaN    NaN   \n",
       "4                       Bromley   NaN    NaN   \n",
       "\n",
       "                               Local authority Political control  \\\n",
       "0  Barking and Dagenham London Borough Council            Labour   \n",
       "1                Barnet London Borough Council      Conservative   \n",
       "2                Bexley London Borough Council      Conservative   \n",
       "3                 Brent London Borough Council            Labour   \n",
       "4               Bromley London Borough Council      Conservative   \n",
       "\n",
       "                                Headquarters  Area (sq mi)  \\\n",
       "0                   Town Hall, 1 Town Square         13.93   \n",
       "1  Barnet House, 2 Bristol Avenue, Colindale         33.49   \n",
       "2            Civic Offices, 2 Watling Street         23.38   \n",
       "3          Brent Civic Centre, Engineers Way         16.70   \n",
       "4              Civic Centre, Stockwell Close         57.97   \n",
       "\n",
       "   Population (2019 est)[1]  \\\n",
       "0                    212906   \n",
       "1                    395896   \n",
       "2                    248287   \n",
       "3                    329771   \n",
       "4                    332336   \n",
       "\n",
       "                                        Co-ordinates  Nr. in map  \n",
       "0  .mw-parser-output .geo-default,.mw-parser-outp...          25  \n",
       "1        51°37′31″N 0°09′06″W﻿ / ﻿51.6252°N 0.1517°W          31  \n",
       "2        51°27′18″N 0°09′02″E﻿ / ﻿51.4549°N 0.1505°E          23  \n",
       "3        51°33′32″N 0°16′54″W﻿ / ﻿51.5588°N 0.2817°W          12  \n",
       "4        51°24′14″N 0°01′11″E﻿ / ﻿51.4039°N 0.0198°E          20  "
      ]
     },
     "execution_count": 2,
     "metadata": {},
     "output_type": "execute_result"
    }
   ],
   "source": [
    "url='https://en.wikipedia.org/wiki/List_of_London_boroughs'\n",
    "\n",
    "LDF=pd.read_html(url, header=0)[0]\n",
    "\n",
    "LDF.head()"
   ]
  },
  {
   "cell_type": "code",
   "execution_count": 3,
   "metadata": {},
   "outputs": [
    {
     "data": {
      "text/html": [
       "<div>\n",
       "<style scoped>\n",
       "    .dataframe tbody tr th:only-of-type {\n",
       "        vertical-align: middle;\n",
       "    }\n",
       "\n",
       "    .dataframe tbody tr th {\n",
       "        vertical-align: top;\n",
       "    }\n",
       "\n",
       "    .dataframe thead th {\n",
       "        text-align: right;\n",
       "    }\n",
       "</style>\n",
       "<table border=\"1\" class=\"dataframe\">\n",
       "  <thead>\n",
       "    <tr style=\"text-align: right;\">\n",
       "      <th></th>\n",
       "      <th>Borough</th>\n",
       "      <th>Inner</th>\n",
       "      <th>Area (sq mi)</th>\n",
       "      <th>Population (2019 est)[1]</th>\n",
       "      <th>Co-ordinates</th>\n",
       "    </tr>\n",
       "  </thead>\n",
       "  <tbody>\n",
       "    <tr>\n",
       "      <th>0</th>\n",
       "      <td>Barking and Dagenham[note 1]</td>\n",
       "      <td>0</td>\n",
       "      <td>13.93</td>\n",
       "      <td>212906</td>\n",
       "      <td>.mw-parser-output .geo-default,.mw-parser-outp...</td>\n",
       "    </tr>\n",
       "    <tr>\n",
       "      <th>1</th>\n",
       "      <td>Barnet</td>\n",
       "      <td>0</td>\n",
       "      <td>33.49</td>\n",
       "      <td>395896</td>\n",
       "      <td>51°37′31″N 0°09′06″W﻿ / ﻿51.6252°N 0.1517°W</td>\n",
       "    </tr>\n",
       "    <tr>\n",
       "      <th>2</th>\n",
       "      <td>Bexley</td>\n",
       "      <td>0</td>\n",
       "      <td>23.38</td>\n",
       "      <td>248287</td>\n",
       "      <td>51°27′18″N 0°09′02″E﻿ / ﻿51.4549°N 0.1505°E</td>\n",
       "    </tr>\n",
       "    <tr>\n",
       "      <th>3</th>\n",
       "      <td>Brent</td>\n",
       "      <td>0</td>\n",
       "      <td>16.70</td>\n",
       "      <td>329771</td>\n",
       "      <td>51°33′32″N 0°16′54″W﻿ / ﻿51.5588°N 0.2817°W</td>\n",
       "    </tr>\n",
       "    <tr>\n",
       "      <th>4</th>\n",
       "      <td>Bromley</td>\n",
       "      <td>0</td>\n",
       "      <td>57.97</td>\n",
       "      <td>332336</td>\n",
       "      <td>51°24′14″N 0°01′11″E﻿ / ﻿51.4039°N 0.0198°E</td>\n",
       "    </tr>\n",
       "  </tbody>\n",
       "</table>\n",
       "</div>"
      ],
      "text/plain": [
       "                        Borough Inner  Area (sq mi)  Population (2019 est)[1]  \\\n",
       "0  Barking and Dagenham[note 1]     0         13.93                    212906   \n",
       "1                        Barnet     0         33.49                    395896   \n",
       "2                        Bexley     0         23.38                    248287   \n",
       "3                         Brent     0         16.70                    329771   \n",
       "4                       Bromley     0         57.97                    332336   \n",
       "\n",
       "                                        Co-ordinates  \n",
       "0  .mw-parser-output .geo-default,.mw-parser-outp...  \n",
       "1        51°37′31″N 0°09′06″W﻿ / ﻿51.6252°N 0.1517°W  \n",
       "2        51°27′18″N 0°09′02″E﻿ / ﻿51.4549°N 0.1505°E  \n",
       "3        51°33′32″N 0°16′54″W﻿ / ﻿51.5588°N 0.2817°W  \n",
       "4        51°24′14″N 0°01′11″E﻿ / ﻿51.4039°N 0.0198°E  "
      ]
     },
     "execution_count": 3,
     "metadata": {},
     "output_type": "execute_result"
    }
   ],
   "source": [
    "\n",
    "LF = LDF.drop(['Status','Local authority','Political control','Headquarters','Nr. in map'], axis=1)\n",
    "LF['Inner'].replace(np.nan,'0', inplace=True)\n",
    "LF['Borough'].replace('Barking and Dagenham [note 1]','Barking and Dagenham', inplace=True)\n",
    "LF['Borough'].replace('Greenwich [note 2]','Greenwich', inplace=True)\n",
    "LF['Borough'].replace('Hammersmith and Fulham [note 4]','Hammersmith and Fulham', inplace=True)\n",
    "Inn = ['Camden','Greenwich','Hackney','Hammersmith and Fulham','Islington','Kensington and Chelsea','Lewisham','Lambeth','Southwark','Tower Hamlets','Wandsworth','Westminster']\n",
    "LF.head()\n",
    "LF['Inner'] = '0'\n",
    "LF.head()"
   ]
  },
  {
   "cell_type": "markdown",
   "metadata": {},
   "source": [
    "Renaming some of the columns"
   ]
  },
  {
   "cell_type": "code",
   "execution_count": 4,
   "metadata": {},
   "outputs": [
    {
     "data": {
      "text/html": [
       "<div>\n",
       "<style scoped>\n",
       "    .dataframe tbody tr th:only-of-type {\n",
       "        vertical-align: middle;\n",
       "    }\n",
       "\n",
       "    .dataframe tbody tr th {\n",
       "        vertical-align: top;\n",
       "    }\n",
       "\n",
       "    .dataframe thead th {\n",
       "        text-align: right;\n",
       "    }\n",
       "</style>\n",
       "<table border=\"1\" class=\"dataframe\">\n",
       "  <thead>\n",
       "    <tr style=\"text-align: right;\">\n",
       "      <th></th>\n",
       "      <th>Borough</th>\n",
       "      <th>Area</th>\n",
       "      <th>Population (2019 est)[1]</th>\n",
       "      <th>Co-ordinates</th>\n",
       "      <th>Latitude</th>\n",
       "      <th>Longitude</th>\n",
       "    </tr>\n",
       "  </thead>\n",
       "  <tbody>\n",
       "    <tr>\n",
       "      <th>0</th>\n",
       "      <td>Barking and Dagenham[note 1]</td>\n",
       "      <td>13.93</td>\n",
       "      <td>212906</td>\n",
       "      <td>(51.5541171, 0.15050434261994267)</td>\n",
       "      <td>51.554117</td>\n",
       "      <td>0.150504</td>\n",
       "    </tr>\n",
       "    <tr>\n",
       "      <th>1</th>\n",
       "      <td>Barnet</td>\n",
       "      <td>33.49</td>\n",
       "      <td>395896</td>\n",
       "      <td>(51.65309, -0.2002261)</td>\n",
       "      <td>51.653090</td>\n",
       "      <td>-0.200226</td>\n",
       "    </tr>\n",
       "    <tr>\n",
       "      <th>2</th>\n",
       "      <td>Bexley</td>\n",
       "      <td>23.38</td>\n",
       "      <td>248287</td>\n",
       "      <td>(39.9692378, -82.936864)</td>\n",
       "      <td>39.969238</td>\n",
       "      <td>-82.936864</td>\n",
       "    </tr>\n",
       "    <tr>\n",
       "      <th>3</th>\n",
       "      <td>Brent</td>\n",
       "      <td>16.70</td>\n",
       "      <td>329771</td>\n",
       "      <td>(32.9373463, -87.1647184)</td>\n",
       "      <td>32.937346</td>\n",
       "      <td>-87.164718</td>\n",
       "    </tr>\n",
       "    <tr>\n",
       "      <th>4</th>\n",
       "      <td>Bromley</td>\n",
       "      <td>57.97</td>\n",
       "      <td>332336</td>\n",
       "      <td>(51.4028046, 0.0148142)</td>\n",
       "      <td>51.402805</td>\n",
       "      <td>0.014814</td>\n",
       "    </tr>\n",
       "  </tbody>\n",
       "</table>\n",
       "</div>"
      ],
      "text/plain": [
       "                        Borough   Area  Population (2019 est)[1]  \\\n",
       "0  Barking and Dagenham[note 1]  13.93                    212906   \n",
       "1                        Barnet  33.49                    395896   \n",
       "2                        Bexley  23.38                    248287   \n",
       "3                         Brent  16.70                    329771   \n",
       "4                       Bromley  57.97                    332336   \n",
       "\n",
       "                        Co-ordinates   Latitude  Longitude  \n",
       "0  (51.5541171, 0.15050434261994267)  51.554117   0.150504  \n",
       "1             (51.65309, -0.2002261)  51.653090  -0.200226  \n",
       "2           (39.9692378, -82.936864)  39.969238 -82.936864  \n",
       "3          (32.9373463, -87.1647184)  32.937346 -87.164718  \n",
       "4            (51.4028046, 0.0148142)  51.402805   0.014814  "
      ]
     },
     "execution_count": 4,
     "metadata": {},
     "output_type": "execute_result"
    }
   ],
   "source": [
    "\n",
    "LF['Inner'] = LF.Borough.isin(Inn).astype(int)\n",
    "Out = LF[LF.Inner == 0]\n",
    "Out = Out.drop(['Inner'], axis=1)\n",
    "df = Out.rename(columns = {\"Area (sq mi)\": \"Area\", \n",
    "                            \"Population (2013 est)[1]\":\"Population\"})\n",
    "geolocator = Nominatim(user_agent=\"London_explorer\")\n",
    "df['Co-ordinates']= df['Borough'].apply(geolocator.geocode).apply(lambda x: (x.latitude, x.longitude))\n",
    "df[['Latitude', 'Longitude']] = df['Co-ordinates'].apply(pd.Series)\n",
    "df.head()"
   ]
  },
  {
   "cell_type": "markdown",
   "metadata": {},
   "source": [
    "Rent price is a big issue for the new business, we will get the boroughs with the lowest ones."
   ]
  },
  {
   "cell_type": "code",
   "execution_count": 5,
   "metadata": {},
   "outputs": [
    {
     "ename": "ValueError",
     "evalue": "Length of values (20) does not match length of index (21)",
     "output_type": "error",
     "traceback": [
      "\u001b[1;31m---------------------------------------------------------------------------\u001b[0m",
      "\u001b[1;31mValueError\u001b[0m                                Traceback (most recent call last)",
      "\u001b[1;32m<ipython-input-5-69d9f0913445>\u001b[0m in \u001b[0;36m<module>\u001b[1;34m\u001b[0m\n\u001b[0;32m      1\u001b[0m \u001b[0mMax_Rent\u001b[0m \u001b[1;33m=\u001b[0m \u001b[1;33m[\u001b[0m\u001b[1;34m'102.25'\u001b[0m\u001b[1;33m,\u001b[0m\u001b[1;34m'150.75'\u001b[0m\u001b[1;33m,\u001b[0m\u001b[1;34m'97'\u001b[0m\u001b[1;33m,\u001b[0m\u001b[1;34m'150.75'\u001b[0m\u001b[1;33m,\u001b[0m\u001b[1;34m'118.5'\u001b[0m\u001b[1;33m,\u001b[0m\u001b[1;34m'129.25'\u001b[0m\u001b[1;33m,\u001b[0m\u001b[1;34m'140'\u001b[0m\u001b[1;33m,\u001b[0m\u001b[1;34m'102.25'\u001b[0m\u001b[1;33m,\u001b[0m\u001b[1;34m'107.75'\u001b[0m\u001b[1;33m,\u001b[0m\u001b[1;34m'140'\u001b[0m\u001b[1;33m,\u001b[0m\u001b[1;34m'86'\u001b[0m\u001b[1;33m,\u001b[0m\u001b[1;34m'161.5'\u001b[0m\u001b[1;33m,\u001b[0m\u001b[1;34m'161.5'\u001b[0m\u001b[1;33m,\u001b[0m\u001b[1;34m'140'\u001b[0m\u001b[1;33m,\u001b[0m\u001b[1;34m'123.75'\u001b[0m\u001b[1;33m,\u001b[0m\u001b[1;34m'134.5'\u001b[0m\u001b[1;33m,\u001b[0m\u001b[1;34m'118.5'\u001b[0m\u001b[1;33m,\u001b[0m\u001b[1;34m'140'\u001b[0m\u001b[1;33m,\u001b[0m\u001b[1;34m'129.25'\u001b[0m\u001b[1;33m,\u001b[0m\u001b[1;34m'145.25'\u001b[0m\u001b[1;33m]\u001b[0m\u001b[1;33m\u001b[0m\u001b[1;33m\u001b[0m\u001b[0m\n\u001b[1;32m----> 2\u001b[1;33m \u001b[0mdf\u001b[0m\u001b[1;33m[\u001b[0m\u001b[1;34m'Max_Rent'\u001b[0m\u001b[1;33m]\u001b[0m \u001b[1;33m=\u001b[0m \u001b[0mMax_Rent\u001b[0m\u001b[1;33m\u001b[0m\u001b[1;33m\u001b[0m\u001b[0m\n\u001b[0m\u001b[0;32m      3\u001b[0m \u001b[1;33m\u001b[0m\u001b[0m\n\u001b[0;32m      4\u001b[0m \u001b[0mdf\u001b[0m\u001b[1;33m[\u001b[0m\u001b[1;34m\"Max_Rent\"\u001b[0m\u001b[1;33m]\u001b[0m \u001b[1;33m=\u001b[0m \u001b[0mpd\u001b[0m\u001b[1;33m.\u001b[0m\u001b[0mto_numeric\u001b[0m\u001b[1;33m(\u001b[0m\u001b[0mdf\u001b[0m\u001b[1;33m[\u001b[0m\u001b[1;34m\"Max_Rent\"\u001b[0m\u001b[1;33m]\u001b[0m\u001b[1;33m)\u001b[0m\u001b[1;33m\u001b[0m\u001b[1;33m\u001b[0m\u001b[0m\n\u001b[0;32m      5\u001b[0m \u001b[0mfin\u001b[0m \u001b[1;33m=\u001b[0m \u001b[0mdf\u001b[0m\u001b[1;33m[\u001b[0m\u001b[0mdf\u001b[0m\u001b[1;33m.\u001b[0m\u001b[0mMax_Rent\u001b[0m \u001b[1;33m<=\u001b[0m \u001b[1;36m125\u001b[0m\u001b[1;33m]\u001b[0m\u001b[1;33m\u001b[0m\u001b[1;33m\u001b[0m\u001b[0m\n",
      "\u001b[1;32m~\\anaconda3\\lib\\site-packages\\pandas\\core\\frame.py\u001b[0m in \u001b[0;36m__setitem__\u001b[1;34m(self, key, value)\u001b[0m\n\u001b[0;32m   3038\u001b[0m         \u001b[1;32melse\u001b[0m\u001b[1;33m:\u001b[0m\u001b[1;33m\u001b[0m\u001b[1;33m\u001b[0m\u001b[0m\n\u001b[0;32m   3039\u001b[0m             \u001b[1;31m# set column\u001b[0m\u001b[1;33m\u001b[0m\u001b[1;33m\u001b[0m\u001b[1;33m\u001b[0m\u001b[0m\n\u001b[1;32m-> 3040\u001b[1;33m             \u001b[0mself\u001b[0m\u001b[1;33m.\u001b[0m\u001b[0m_set_item\u001b[0m\u001b[1;33m(\u001b[0m\u001b[0mkey\u001b[0m\u001b[1;33m,\u001b[0m \u001b[0mvalue\u001b[0m\u001b[1;33m)\u001b[0m\u001b[1;33m\u001b[0m\u001b[1;33m\u001b[0m\u001b[0m\n\u001b[0m\u001b[0;32m   3041\u001b[0m \u001b[1;33m\u001b[0m\u001b[0m\n\u001b[0;32m   3042\u001b[0m     \u001b[1;32mdef\u001b[0m \u001b[0m_setitem_slice\u001b[0m\u001b[1;33m(\u001b[0m\u001b[0mself\u001b[0m\u001b[1;33m,\u001b[0m \u001b[0mkey\u001b[0m\u001b[1;33m:\u001b[0m \u001b[0mslice\u001b[0m\u001b[1;33m,\u001b[0m \u001b[0mvalue\u001b[0m\u001b[1;33m)\u001b[0m\u001b[1;33m:\u001b[0m\u001b[1;33m\u001b[0m\u001b[1;33m\u001b[0m\u001b[0m\n",
      "\u001b[1;32m~\\anaconda3\\lib\\site-packages\\pandas\\core\\frame.py\u001b[0m in \u001b[0;36m_set_item\u001b[1;34m(self, key, value)\u001b[0m\n\u001b[0;32m   3114\u001b[0m         \"\"\"\n\u001b[0;32m   3115\u001b[0m         \u001b[0mself\u001b[0m\u001b[1;33m.\u001b[0m\u001b[0m_ensure_valid_index\u001b[0m\u001b[1;33m(\u001b[0m\u001b[0mvalue\u001b[0m\u001b[1;33m)\u001b[0m\u001b[1;33m\u001b[0m\u001b[1;33m\u001b[0m\u001b[0m\n\u001b[1;32m-> 3116\u001b[1;33m         \u001b[0mvalue\u001b[0m \u001b[1;33m=\u001b[0m \u001b[0mself\u001b[0m\u001b[1;33m.\u001b[0m\u001b[0m_sanitize_column\u001b[0m\u001b[1;33m(\u001b[0m\u001b[0mkey\u001b[0m\u001b[1;33m,\u001b[0m \u001b[0mvalue\u001b[0m\u001b[1;33m)\u001b[0m\u001b[1;33m\u001b[0m\u001b[1;33m\u001b[0m\u001b[0m\n\u001b[0m\u001b[0;32m   3117\u001b[0m         \u001b[0mNDFrame\u001b[0m\u001b[1;33m.\u001b[0m\u001b[0m_set_item\u001b[0m\u001b[1;33m(\u001b[0m\u001b[0mself\u001b[0m\u001b[1;33m,\u001b[0m \u001b[0mkey\u001b[0m\u001b[1;33m,\u001b[0m \u001b[0mvalue\u001b[0m\u001b[1;33m)\u001b[0m\u001b[1;33m\u001b[0m\u001b[1;33m\u001b[0m\u001b[0m\n\u001b[0;32m   3118\u001b[0m \u001b[1;33m\u001b[0m\u001b[0m\n",
      "\u001b[1;32m~\\anaconda3\\lib\\site-packages\\pandas\\core\\frame.py\u001b[0m in \u001b[0;36m_sanitize_column\u001b[1;34m(self, key, value, broadcast)\u001b[0m\n\u001b[0;32m   3762\u001b[0m \u001b[1;33m\u001b[0m\u001b[0m\n\u001b[0;32m   3763\u001b[0m             \u001b[1;31m# turn me into an ndarray\u001b[0m\u001b[1;33m\u001b[0m\u001b[1;33m\u001b[0m\u001b[1;33m\u001b[0m\u001b[0m\n\u001b[1;32m-> 3764\u001b[1;33m             \u001b[0mvalue\u001b[0m \u001b[1;33m=\u001b[0m \u001b[0msanitize_index\u001b[0m\u001b[1;33m(\u001b[0m\u001b[0mvalue\u001b[0m\u001b[1;33m,\u001b[0m \u001b[0mself\u001b[0m\u001b[1;33m.\u001b[0m\u001b[0mindex\u001b[0m\u001b[1;33m)\u001b[0m\u001b[1;33m\u001b[0m\u001b[1;33m\u001b[0m\u001b[0m\n\u001b[0m\u001b[0;32m   3765\u001b[0m             \u001b[1;32mif\u001b[0m \u001b[1;32mnot\u001b[0m \u001b[0misinstance\u001b[0m\u001b[1;33m(\u001b[0m\u001b[0mvalue\u001b[0m\u001b[1;33m,\u001b[0m \u001b[1;33m(\u001b[0m\u001b[0mnp\u001b[0m\u001b[1;33m.\u001b[0m\u001b[0mndarray\u001b[0m\u001b[1;33m,\u001b[0m \u001b[0mIndex\u001b[0m\u001b[1;33m)\u001b[0m\u001b[1;33m)\u001b[0m\u001b[1;33m:\u001b[0m\u001b[1;33m\u001b[0m\u001b[1;33m\u001b[0m\u001b[0m\n\u001b[0;32m   3766\u001b[0m                 \u001b[1;32mif\u001b[0m \u001b[0misinstance\u001b[0m\u001b[1;33m(\u001b[0m\u001b[0mvalue\u001b[0m\u001b[1;33m,\u001b[0m \u001b[0mlist\u001b[0m\u001b[1;33m)\u001b[0m \u001b[1;32mand\u001b[0m \u001b[0mlen\u001b[0m\u001b[1;33m(\u001b[0m\u001b[0mvalue\u001b[0m\u001b[1;33m)\u001b[0m \u001b[1;33m>\u001b[0m \u001b[1;36m0\u001b[0m\u001b[1;33m:\u001b[0m\u001b[1;33m\u001b[0m\u001b[1;33m\u001b[0m\u001b[0m\n",
      "\u001b[1;32m~\\anaconda3\\lib\\site-packages\\pandas\\core\\internals\\construction.py\u001b[0m in \u001b[0;36msanitize_index\u001b[1;34m(data, index)\u001b[0m\n\u001b[0;32m    745\u001b[0m     \"\"\"\n\u001b[0;32m    746\u001b[0m     \u001b[1;32mif\u001b[0m \u001b[0mlen\u001b[0m\u001b[1;33m(\u001b[0m\u001b[0mdata\u001b[0m\u001b[1;33m)\u001b[0m \u001b[1;33m!=\u001b[0m \u001b[0mlen\u001b[0m\u001b[1;33m(\u001b[0m\u001b[0mindex\u001b[0m\u001b[1;33m)\u001b[0m\u001b[1;33m:\u001b[0m\u001b[1;33m\u001b[0m\u001b[1;33m\u001b[0m\u001b[0m\n\u001b[1;32m--> 747\u001b[1;33m         raise ValueError(\n\u001b[0m\u001b[0;32m    748\u001b[0m             \u001b[1;34m\"Length of values \"\u001b[0m\u001b[1;33m\u001b[0m\u001b[1;33m\u001b[0m\u001b[0m\n\u001b[0;32m    749\u001b[0m             \u001b[1;34mf\"({len(data)}) \"\u001b[0m\u001b[1;33m\u001b[0m\u001b[1;33m\u001b[0m\u001b[0m\n",
      "\u001b[1;31mValueError\u001b[0m: Length of values (20) does not match length of index (21)"
     ]
    }
   ],
   "source": [
    "Max_Rent = ['102.25','150.75','97','150.75','118.5','129.25','140','102.25','107.75','140','86','161.5','161.5','140','123.75','134.5','118.5','140','129.25','145.25']\n",
    "df['Max_Rent'] = Max_Rent\n",
    "\n",
    "df[\"Max_Rent\"] = pd.to_numeric(df[\"Max_Rent\"])\n",
    "fin = df[df.Max_Rent <= 125]\n",
    "fin\n",
    "\n",
    "Long_list = fin['Longitude'].tolist()\n",
    "Lat_list = fin['Latitude'].tolist()\n",
    "print (\"Old latitude list: \", Lat_list)\n",
    "print (\"Old Longitude list: \", Long_list)\n",
    "\n",
    "replace_longitudes = {-106.6621329:0.0799, -2.8417544: 0.1837}\n",
    "replace_latitudes = {50.7164496:51.6636, 51.0358628: 51.5499}\n",
    "\n",
    "longtitudes_new = [replace_longitudes.get(n7,n7) for n7 in Long_list]\n",
    "latitudes_new = [replace_latitudes.get(n7,n7) for n7 in Lat_list]\n",
    "\n",
    "fin = fin.drop(['Co-ordinates', 'Longitude'], axis=1)\n",
    "\n",
    "fin['Longitude'] = longtitudes_new\n",
    "fin['Latitude'] = latitudes_new\n",
    "fin"
   ]
  },
  {
   "cell_type": "code",
   "execution_count": null,
   "metadata": {},
   "outputs": [],
   "source": [
    "\n",
    "from geopy.geocoders import Nominatim # convert an address into latitude and longitude values\n",
    "address = 'London'\n",
    "\n",
    "geolocator = Nominatim(user_agent=\"London_explorer\")\n",
    "location = geolocator.geocode(address)\n",
    "London_latitude = location.latitude\n",
    "London_longitude = location.longitude\n",
    "print('The geograpical coordinates of London are {}, {}.'.format(London_latitude, London_longitude))"
   ]
  },
  {
   "cell_type": "code",
   "execution_count": null,
   "metadata": {},
   "outputs": [],
   "source": [
    "!pip install folium\n",
    "import folium\n",
    "\n",
    "Fin_Brgh = folium.Map(location=[London_latitude, London_longitude], zoom_start=12)\n",
    "\n",
    "\n",
    "for lat, lng, label in zip(fin['Latitude'], fin['Longitude'], \n",
    "                            fin['Borough']):\n",
    "    label = folium.Popup(label, parse_html=True)\n",
    "    folium.CircleMarker(\n",
    "        [lat, lng],\n",
    "        radius=9,\n",
    "        popup=label,\n",
    "        color='Red',\n",
    "        fill=True,\n",
    "        fill_color='#Blue',\n",
    "        fill_opacity=0.7).add_to(Fin_Brgh)\n",
    "Fin_Brgh"
   ]
  },
  {
   "cell_type": "code",
   "execution_count": null,
   "metadata": {},
   "outputs": [],
   "source": [
    "\n",
    "CLIENT_ID = 'RVOHL5S50AJKSI1KC5Y5XJPMGF3R2XWDYO30GF3SNHVNWQAO' #'your-client-ID' # your Foursquare ID\n",
    "CLIENT_SECRET = '4KX1YG2NIBDEISK3B0MP5LE0DIEKNZIXUSRH04ZYKYI4RLLW' #'your-client-secret' # your Foursquare Secret\n",
    "VERSION = '20180604' # Foursquare API version\n",
    "\n",
    "print('My credentails:')\n",
    "print('My CLIENT_ID: ' + CLIENT_ID)\n",
    "print('My CLIENT_SECRET:' + CLIENT_SECRET)"
   ]
  },
  {
   "cell_type": "markdown",
   "metadata": {},
   "source": [
    "Due to a big borough area, we will take a rather big radius of search."
   ]
  },
  {
   "cell_type": "code",
   "execution_count": null,
   "metadata": {},
   "outputs": [],
   "source": [
    "radius = 5000\n",
    "LIMIT = 100\n",
    "\n",
    "def getVenues(names, latitudes, longitudes, radius=5000):\n",
    "    \n",
    "    venues_list=[]\n",
    "    for name, lat, lng in zip(names, latitudes, longitudes):\n",
    "        print(name)\n",
    "            \n",
    "        # create the API request URL\n",
    "        url = 'https://api.foursquare.com/v2/venues/explore?&client_id={}&client_secret={}&v={}&ll={},{}&radius={}&limit={}'.format(\n",
    "            CLIENT_ID, \n",
    "            CLIENT_SECRET, \n",
    "            VERSION, \n",
    "            lat, \n",
    "            lng, \n",
    "            radius, \n",
    "            LIMIT)\n",
    "            \n",
    "        # make the GET request\n",
    "        results = requests.get(url).json()[\"response\"]['groups'][0]['items']\n",
    "        \n",
    "        # return only relevant information for each nearby venue\n",
    "        venues_list.append([(\n",
    "            name, \n",
    "            lat, \n",
    "            lng, \n",
    "            v['venue']['name'], \n",
    "            v['venue']['location']['lat'], \n",
    "            v['venue']['location']['lng'],  \n",
    "            v['venue']['categories'][0]['name']) for v in results])\n",
    "\n",
    "    nearby_venues = pd.DataFrame([item for venue_list in venues_list for item in venue_list])\n",
    "    nearby_venues.columns = ['Borough', \n",
    "                  'Latitude', \n",
    "                  'Longitude', \n",
    "                  'Venue', \n",
    "                  'Venue_Lat', \n",
    "                  'Venue_Long', \n",
    "                  'Venue_Category']\n",
    "    \n",
    "    return(nearby_venues)\n"
   ]
  },
  {
   "cell_type": "code",
   "execution_count": null,
   "metadata": {},
   "outputs": [],
   "source": [
    "Brgh_Venues = getVenues(names=fin['Borough'],\n",
    "                        latitudes=fin['Latitude'],\n",
    "                        longitudes=fin['Longitude'])"
   ]
  },
  {
   "cell_type": "markdown",
   "metadata": {},
   "source": [
    "Lets count the venues in every borough, to get the data scale"
   ]
  },
  {
   "cell_type": "code",
   "execution_count": null,
   "metadata": {},
   "outputs": [],
   "source": [
    "Brgh_Venues.groupby('Borough').count()"
   ]
  },
  {
   "cell_type": "markdown",
   "metadata": {},
   "source": [
    "Lets see which venues are more popular than the others"
   ]
  },
  {
   "cell_type": "code",
   "execution_count": null,
   "metadata": {},
   "outputs": [],
   "source": [
    "London_Brgh_onehot = pd.get_dummies(Brgh_Venues[['Venue_Category']], prefix=\"\", prefix_sep=\"\")\n",
    "mid =  Brgh_Venues['Borough']\n",
    "\n",
    "London_Brgh_onehot.insert(0, 'Borough', mid)\n",
    "\n",
    "London_Brgh_onehot.head()"
   ]
  },
  {
   "cell_type": "code",
   "execution_count": null,
   "metadata": {},
   "outputs": [],
   "source": [
    "Brgh_grouped = London_Brgh_onehot.groupby('Borough').mean().reset_index()\n",
    "Brgh_grouped"
   ]
  },
  {
   "cell_type": "code",
   "execution_count": null,
   "metadata": {},
   "outputs": [],
   "source": [
    "num_top_venues = 5\n",
    "\n",
    "for brgh in Brgh_grouped['Borough']:\n",
    "    print(\"_________\"+brgh+\"________\")\n",
    "    temp = Brgh_grouped[Brgh_grouped['Borough'] == brgh].T.reset_index()\n",
    "    temp.columns = ['venue','freq']\n",
    "    temp = temp.iloc[1:]\n",
    "    temp['freq'] = temp['freq'].astype(float)\n",
    "    temp = temp.round({'freq': 2})\n",
    "    print(temp.sort_values('freq', ascending=False).reset_index(drop=True).head(num_top_venues))\n",
    "    print('\\n')"
   ]
  },
  {
   "cell_type": "code",
   "execution_count": null,
   "metadata": {},
   "outputs": [],
   "source": [
    "def return_most_common_venues(row, num_top_venues):\n",
    "    row_categories = row.iloc[1:]\n",
    "    row_categories_sorted = row_categories.sort_values(ascending=False)\n",
    "    \n",
    "    return row_categories_sorted.index.values[0:num_top_venues]\n",
    "\n",
    "\n",
    "num_top_venues = 5\n",
    "\n",
    "indicators = ['st', 'nd', 'rd']\n",
    "\n",
    "# create columns according to number of top venues\n",
    "columns = ['Borough']\n",
    "for ind in np.arange(num_top_venues):\n",
    "    try:\n",
    "        columns.append('{}{} Most Common Venue'.format(ind+1, indicators[ind]))\n",
    "    except:\n",
    "        columns.append('{}th Most Common Venue'.format(ind+1))\n",
    "\n",
    "# create a new dataframe\n",
    "brgh_venues_sorted = pd.DataFrame(columns=columns)\n",
    "brgh_venues_sorted['Borough'] = Brgh_grouped['Borough']\n",
    "\n",
    "for ind in np.arange(Brgh_grouped.shape[0]):\n",
    "    brgh_venues_sorted.iloc[ind, 1:] = return_most_common_venues(Brgh_grouped.iloc[ind, :], num_top_venues)\n",
    "\n",
    "brgh_venues_sorted.head(8)"
   ]
  },
  {
   "cell_type": "code",
   "execution_count": null,
   "metadata": {},
   "outputs": [],
   "source": [
    "\n",
    "kclusters = 3\n",
    "\n",
    "brgh_grouped_clustering = Brgh_grouped.drop('Borough', 1)\n",
    "\n",
    "# run k-means clustering\n",
    "kmeans = KMeans(n_clusters=kclusters, random_state=0).fit(brgh_grouped_clustering)\n",
    "\n",
    "# check cluster labels generated for each row in the dataframe\n",
    "kmeans.labels_[0:10]"
   ]
  },
  {
   "cell_type": "code",
   "execution_count": null,
   "metadata": {},
   "outputs": [],
   "source": [
    "brgh_venues_sorted.insert(0, 'Cluster Label', kmeans.labels_)\n",
    "Borough_merged = pd.merge(fin,brgh_venues_sorted, on='Borough')\n",
    "Borough_merged"
   ]
  },
  {
   "cell_type": "code",
   "execution_count": null,
   "metadata": {},
   "outputs": [],
   "source": [
    "map_clusters = folium.Map(location=[London_latitude, London_longitude], zoom_start=10)\n",
    "\n",
    "# set color scheme for the clusters\n",
    "x = np.arange(kclusters)\n",
    "ys = [i + x + (i*x)**2 for i in range(kclusters)]\n",
    "colors_array = cm.rainbow(np.linspace(0, 1, len(ys)))\n",
    "rainbow = [colors.rgb2hex(i) for i in colors_array]\n",
    "\n",
    "# add markers to the map\n",
    "markers_colors = []\n",
    "for lat, lon, poi, cluster, rent, pop in zip(Borough_merged['Latitude'],\n",
    "                                  Borough_merged['Longitude'],\n",
    "                                  Borough_merged['Borough'],\n",
    "                                  Borough_merged['Cluster Label'],\n",
    "                                  Borough_merged['Max_Rent'],\n",
    "                                  Borough_merged['Population (2019 est)[1]']):\n",
    "    label = folium.Popup(str(poi) + ' Cluster ' + str(cluster) + \" \" + \"Rent \" + str(rent) + \" \" + \"Population \" + str(pop), parse_html=True)\n",
    "    folium.CircleMarker(\n",
    "        [lat, lon],\n",
    "        radius=25,\n",
    "        popup=label,\n",
    "        color=rainbow[cluster-1],\n",
    "        fill=True,\n",
    "        fill_color=rainbow[cluster-1],\n",
    "        fill_opacity=0.7).add_to(map_clusters)\n",
    "       \n",
    "map_clusters"
   ]
  },
  {
   "cell_type": "code",
   "execution_count": null,
   "metadata": {},
   "outputs": [],
   "source": [
    "Borough_merged.loc[Borough_merged['Cluster Label'] == 0, Borough_merged.columns[[0,1,2,4] + list(range(6, Borough_merged.shape[1]))]]"
   ]
  },
  {
   "cell_type": "markdown",
   "metadata": {},
   "source": [
    "These boroughs already have a pub.Hence it would not be ideal to open another pub a it might lead to stiff competition.However even if one decides to open a pub here,then Enfield can be a good option followed by Haringey."
   ]
  },
  {
   "cell_type": "code",
   "execution_count": null,
   "metadata": {},
   "outputs": [],
   "source": [
    "Borough_merged.loc[Borough_merged['Cluster Label'] == 1, Borough_merged.columns[[0,1,2,4] + list(range(6, Borough_merged.shape[1]))]]"
   ]
  },
  {
   "cell_type": "markdown",
   "metadata": {},
   "source": [
    "Havering does not seem to have a pub.The rent is also low.Hence it can be a good option to start a pub in this locality."
   ]
  },
  {
   "cell_type": "code",
   "execution_count": null,
   "metadata": {},
   "outputs": [],
   "source": [
    "Borough_merged.loc[Borough_merged['Cluster Label'] == 2, Borough_merged.columns[[0,1,2,4] + list(range(6, Borough_merged.shape[1]))]]"
   ]
  },
  {
   "cell_type": "markdown",
   "metadata": {},
   "source": [
    "Bexley is a good fit to our target boroughs: Rent is low,decent population and while there are already a lot of entertainment areas,it seem to lack a pub."
   ]
  },
  {
   "cell_type": "markdown",
   "metadata": {},
   "source": [
    "<h1>Results</h1>\n",
    "Results of the above analysis and clustering cam be summarized:\n",
    "\n",
    "The most popular social venues, ouside of Inner London boroughs are Pubs and Coffee shops\n",
    "Northern boroughs are more prone to visiting pubs, whereas southern boroughs are most likely to shop and have the social life from home\n",
    "Within top 5 places of interest in every borough is an ethnic restaurant\n",
    "Rent price is not so much a factor for going out - the demand is not affected by difference in costs\n",
    "\n",
    "<h2> Discussion</h2>\n",
    "\n",
    "This notebook is highly inspired by the template given in the course. The idea of clustering the city by area and then plot heatmap to find better area.\n",
    "\n",
    "Some details on the data used:\n",
    "\n",
    "Country/City: London\n",
    "Data: Source is Wikipedia \n",
    "Goal: Open a pub in London based on cost/population and other entertainment zones\n",
    "The following API has been used\n",
    "\n",
    "Foursquare API: to find restaurant/venues\n"
   ]
  },
  {
   "cell_type": "markdown",
   "metadata": {},
   "source": [
    "<h1> Conclusion </h1>\n",
    "This project can be reused for other cities, just think about changing clustering size to adapt to your city.\n",
    "\n",
    "It's very far from being perfect, a lot of work can be done, other source of data can be found, but in the end the result seams to correlate with the real world, when we know the city, the area predicted seams correct."
   ]
  },
  {
   "cell_type": "code",
   "execution_count": null,
   "metadata": {},
   "outputs": [],
   "source": []
  }
 ],
 "metadata": {
  "kernelspec": {
   "display_name": "Python 3",
   "language": "python",
   "name": "python3"
  },
  "language_info": {
   "codemirror_mode": {
    "name": "ipython",
    "version": 3
   },
   "file_extension": ".py",
   "mimetype": "text/x-python",
   "name": "python",
   "nbconvert_exporter": "python",
   "pygments_lexer": "ipython3",
   "version": "3.8.5"
  }
 },
 "nbformat": 4,
 "nbformat_minor": 1
}
